{
 "cells": [
  {
   "cell_type": "markdown",
   "id": "355b6b00",
   "metadata": {},
   "source": [
    "Текст задания см. на скриншоте http://prntscr.com/uh35yg\n",
    "\n",
    "Смоделировать игру против лотерейного автомата типа “777”. Игрок платит 1 руб., после чего выпадает случайное целое число, равномерно распределенное от 0 до 999. При некоторых значениях числа игрок получает выигрыш.\n",
    "\n",
    "777: 200 руб.  \n",
    "999: 100 руб.  \n",
    "555: 50 руб.  \n",
    "333: 15 руб.  \n",
    "111: 10 руб.  \n",
    "\\*77: 5 руб.  \n",
    "**7: 3 руб.  \n",
    "\\*00: 2 руб.  \n",
    "**0: 1 руб.\n",
    "\n",
    "Вопросы:\n",
    "\n",
    "Выгодна ли игра игроку?  \n",
    "Сколько в среднем приобретает или теряет игрок за одну игру?  \n",
    "\\*\\*Дополнительное задание повышенной сложности. \\*\\*\n",
    "\n",
    "Теоретически рассчитать средний выигрыш (проигрыш) и сравнить с результатами моделирования\n",
    "\n",
    "\\* – любая цифра"
   ]
  },
  {
   "cell_type": "code",
   "execution_count": 6,
   "id": "98fd3f2b",
   "metadata": {},
   "outputs": [
    {
     "name": "stdout",
     "output_type": "stream",
     "text": [
      "\n",
      "Общее количество спинов: 1000000,\n",
      "выигрыш за всю игру: 806795,\n",
      "отношение к стоимости всех спинов: 0.8068\n",
      "\n",
      "Wall time: 4.07 s\n"
     ]
    }
   ],
   "source": [
    "%%time\n",
    "import numpy as np\n",
    "\n",
    "spins = 1000000 # общее кол-во спинов\n",
    "spin_value = 1 # стоимость 1 игры\n",
    "score = 0 # выигрыш\n",
    "\n",
    "for _ in range(spins):\n",
    "    i = np.random.randint(0, 1000)\n",
    "    if i == 777:\n",
    "        score += 200\n",
    "    elif i == 999:\n",
    "        score += 100\n",
    "    elif i == 555:\n",
    "        score += 50\n",
    "    elif i == 333:\n",
    "        score += 15\n",
    "    elif i == 111:\n",
    "        score += 10\n",
    "    elif i % 100 == 77:\n",
    "        score += 5\n",
    "    elif i % 10 == 7:\n",
    "        score += 3\n",
    "    elif i % 100 == 0:\n",
    "        score += 2\n",
    "    elif i % 10 == 0:\n",
    "        score += 1\n",
    "\n",
    "print(f'''\n",
    "Общее количество спинов: {spins},\n",
    "выигрыш за всю игру: {score},\n",
    "отношение к стоимости всех спинов: {\"{:,.4f}\".format(score/(spins*spin_value))}\n",
    "''')\n",
    "\n",
    "# Общее количество спинов: 1000000,\n",
    "# выигрыш за всю игру: 806795,\n",
    "# отношение к стоимости всех спинов: 0.8068\n",
    "\n",
    "# Wall time: 4.07 s"
   ]
  },
  {
   "cell_type": "code",
   "execution_count": 24,
   "id": "17e54776",
   "metadata": {},
   "outputs": [
    {
     "name": "stdout",
     "output_type": "stream",
     "text": [
      "[803898, 800366, 795213, 818222, 793877]\n",
      "Средний выигрыш за игру 802315.2 или 0.80%\n",
      "Wall time: 19.3 s\n"
     ]
    }
   ],
   "source": [
    "%%time\n",
    "import numpy as np\n",
    "\n",
    "def game(spins, spin_value):\n",
    "    score = 0 # выигрыш\n",
    "\n",
    "    for _ in range(spins):\n",
    "        i = np.random.randint(0, 1000)\n",
    "        if i == 777:\n",
    "            score += 200\n",
    "        elif i == 999:\n",
    "            score += 100\n",
    "        elif i == 555:\n",
    "            score += 50\n",
    "        elif i == 333:\n",
    "            score += 15\n",
    "        elif i == 111:\n",
    "            score += 10\n",
    "        elif i % 100 == 77:\n",
    "            score += 5\n",
    "        elif i % 10 == 7:\n",
    "            score += 3\n",
    "        elif i % 100 == 0:\n",
    "            score += 2\n",
    "        elif i % 10 == 0:\n",
    "            score += 1\n",
    "\n",
    "    return score\n",
    "            \n",
    "#     print(f'''\n",
    "#     Общее количество спинов: {spins},\n",
    "#     выигрыш за всю игру: {score},\n",
    "#     отношение к стоимости всех спинов: {\"{:,.4f}\".format(score/(spins*spin_value))}\n",
    "#     ''')\n",
    "\n",
    "\n",
    "spins = 1000000 # общее кол-во спинов\n",
    "spin_value = 1 # стоимость 1 игры\n",
    "games_count = 5 # количество игр (для расчета среднего выигрыша)\n",
    "\n",
    "games_score_list =[]\n",
    "for _ in range(games_count): # запускаем игру несколько раз и заносим рузультаты в список\n",
    "    games_score_list.append(game(spins, spin_value))\n",
    "\n",
    "mean_score = np.mean(games_score_list)\n",
    "print(games_score_list)\n",
    "print(f'Средний выигрыш за игру {mean_score} или {\"{:,.2f}\".format(mean_score/spins)}%') # находим срдний размер выигрыша за игру\n",
    "\n",
    "# Wall time: 39.3 s"
   ]
  },
  {
   "cell_type": "markdown",
   "id": "fc86e574",
   "metadata": {},
   "source": [
    "### Средний размер выигрыша - ~800 000 руб. на 1 000 000 руб. вложений, т.е. игра не выгодна, т.к. игрок в среднем теряет около 20%\n",
    "\n",
    "### Эталонный средний выгирыш за игру может составить (количество уникальных комбинаций, дающих выигрыш, умножаем на сумму выигрыша):"
   ]
  },
  {
   "cell_type": "code",
   "execution_count": 26,
   "id": "1a7a1f3e",
   "metadata": {},
   "outputs": [
    {
     "name": "stdout",
     "output_type": "stream",
     "text": [
      "0.8\n"
     ]
    }
   ],
   "source": [
    "theoretical_mean_score = (1*200 + 1*100 + 1*50 + 1*15 + 1*10 + 9*5 + 90*3 + 10*2 + 90*1) / 1000\n",
    "print(theoretical_mean_score)"
   ]
  },
  {
   "cell_type": "code",
   "execution_count": null,
   "id": "b6c12adc",
   "metadata": {},
   "outputs": [],
   "source": []
  }
 ],
 "metadata": {
  "kernelspec": {
   "display_name": "Python 3",
   "language": "python",
   "name": "python3"
  },
  "language_info": {
   "codemirror_mode": {
    "name": "ipython",
    "version": 3
   },
   "file_extension": ".py",
   "mimetype": "text/x-python",
   "name": "python",
   "nbconvert_exporter": "python",
   "pygments_lexer": "ipython3",
   "version": "3.8.8"
  }
 },
 "nbformat": 4,
 "nbformat_minor": 5
}
