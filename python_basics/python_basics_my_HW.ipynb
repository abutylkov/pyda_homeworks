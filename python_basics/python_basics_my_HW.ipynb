{
 "cells": [
  {
   "cell_type": "code",
   "execution_count": 3,
   "metadata": {},
   "outputs": [
    {
     "name": "stdout",
     "output_type": "stream",
     "text": [
      "Фраза 1 длиннее фразы 2\n"
     ]
    }
   ],
   "source": [
    "### Задание 1, пример 1\n",
    "\n",
    "phrase_1 = 'Насколько проще было бы писать программы, если бы не заказчики'\n",
    "phrase_2 = '640Кб должно хватить для любых задач. Билл Гейтс (по легенде)'\n",
    "\n",
    "if len(phrase_1) > len(phrase_2):\n",
    "  print('Фраза 1 длиннее фразы 2')\n",
    "elif len(phrase_1) < len(phrase_2):\n",
    "  print('Фраза 2 длиннее фразы 1')\n",
    "else:\n",
    "  print('Фразы равной длины')\n"
   ]
  },
  {
   "cell_type": "code",
   "execution_count": 2,
   "metadata": {},
   "outputs": [
    {
     "name": "stdout",
     "output_type": "stream",
     "text": [
      "Фраза 2 длиннее фразы 1\n"
     ]
    }
   ],
   "source": [
    "### Задание 1, пример 2\n",
    "\n",
    "phrase_1 = '640Кб должно хватить для любых задач. Билл Гейтс (по легенде)'\n",
    "phrase_2 = 'Насколько проще было бы писать программы, если бы не заказчики'\n",
    "\n",
    "if len(phrase_1) > len(phrase_2):\n",
    "  print('Фраза 1 длиннее фразы 2')\n",
    "elif len(phrase_1) < len(phrase_2):\n",
    "  print('Фраза 2 длиннее фразы 1')\n",
    "else:\n",
    "  print('Фразы равной длины')\n"
   ]
  },
  {
   "cell_type": "code",
   "execution_count": 1,
   "metadata": {},
   "outputs": [
    {
     "name": "stdout",
     "output_type": "stream",
     "text": [
      "Фразы равной длины\n"
     ]
    }
   ],
   "source": [
    "### Задание 1, пример 3\n",
    "\n",
    "phrase_1 = 'Насколько проще было бы писать программы, если бы не заказчики'\n",
    "phrase_2 = 'Насколько проще было бы писать программы, если бы не заказчики'\n",
    "\n",
    "if len(phrase_1) > len(phrase_2):\n",
    "  print('Фраза 1 длиннее фразы 2')\n",
    "elif len(phrase_1) < len(phrase_2):\n",
    "  print('Фраза 2 длиннее фразы 1')\n",
    "else:\n",
    "  print('Фразы равной длины')\n"
   ]
  },
  {
   "cell_type": "code",
   "execution_count": 5,
   "metadata": {},
   "outputs": [
    {
     "name": "stdout",
     "output_type": "stream",
     "text": [
      "Високосный год\n"
     ]
    }
   ],
   "source": [
    "### Задание 2, пример 1\n",
    "\n",
    "from datetime import date\n",
    "year = 2020\n",
    "a = date(year, 1, 1)\n",
    "b = date(year + 1, 1, 1)\n",
    "\n",
    "if (abs(b - a).days) == 366:\n",
    "  print('Високосный год')\n",
    "else:\n",
    "  print('Обычный год')\n"
   ]
  },
  {
   "cell_type": "code",
   "execution_count": 6,
   "metadata": {},
   "outputs": [
    {
     "name": "stdout",
     "output_type": "stream",
     "text": [
      "Обычный год\n"
     ]
    }
   ],
   "source": [
    "### Задание 2, пример 2\n",
    "\n",
    "from datetime import date\n",
    "year = 2019\n",
    "a = date(year, 1, 1)\n",
    "b = date(year + 1, 1, 1)\n",
    "\n",
    "if (abs(b - a).days) == 366:\n",
    "  print('Високосный год')\n",
    "else:\n",
    "  print('Обычный год')\n"
   ]
  },
  {
   "cell_type": "code",
   "execution_count": 8,
   "metadata": {},
   "outputs": [
    {
     "name": "stdout",
     "output_type": "stream",
     "text": [
      "Введите день: 30\n",
      "Введите месяц: август\n",
      "Ваш знак зодиака: Дева\n"
     ]
    }
   ],
   "source": [
    "### Задание 3, пример 1\n",
    "\n",
    "from datetime import date\n",
    "\n",
    "month_dict = {'январь': 1, 'февраль': 2, 'март': 3, 'апрель': 4, 'май': 5, 'июнь': 6, 'июль': 7, 'август': 8, 'сентябрь': 9, 'октябрь': 10, 'ноябрь': 11, 'декабрь': 12}\n",
    "\n",
    "date_list = [date(2000,1,21), date(2000,2,20), date(2000,3,21), date(2000,4,21), date(2000,5,22), date(2000,6,22), date(2000,7,23), date(2000,8,22), date(2000,9,24), date(2000,10,24), date(2000,11,23), date(2000,12,23), date(2000,12,31)] # любой високосный год\n",
    "\n",
    "sign_list = ['Козерог', 'Водолей', 'Рыбы', 'Овен', 'Телец', 'Близнецы', 'Рак', 'Лев', 'Дева', 'Весы', 'Скорпион', 'Стрелец', 'Козерог']\n",
    "\n",
    "day = int(input('Введите день: '))\n",
    "month = str(input('Введите месяц: ')).lower()\n",
    "\n",
    "for n in range(0,13):\n",
    "  if date(2000,month_dict[month],day) <= date_list[n]: \n",
    "    print('Ваш знак зодиака: {}'.format(sign_list[n]))\n",
    "    break\n"
   ]
  },
  {
   "cell_type": "code",
   "execution_count": 9,
   "metadata": {},
   "outputs": [
    {
     "name": "stdout",
     "output_type": "stream",
     "text": [
      "Введите день: 29\n",
      "Введите месяц: Октябрь\n",
      "Ваш знак зодиака: Скорпион\n"
     ]
    }
   ],
   "source": [
    "### Задание 3, пример 2\n",
    "\n",
    "from datetime import date\n",
    "\n",
    "month_dict = {'январь': 1, 'февраль': 2, 'март': 3, 'апрель': 4, 'май': 5, 'июнь': 6, 'июль': 7, 'август': 8, 'сентябрь': 9, 'октябрь': 10, 'ноябрь': 11, 'декабрь': 12}\n",
    "\n",
    "date_list = [date(2000,1,21), date(2000,2,20), date(2000,3,21), date(2000,4,21), date(2000,5,22), date(2000,6,22), date(2000,7,23), date(2000,8,22), date(2000,9,24), date(2000,10,24), date(2000,11,23), date(2000,12,23), date(2000,12,31)]  # любой високосный год\n",
    "\n",
    "sign_list = ['Козерог', 'Водолей', 'Рыбы', 'Овен', 'Телец', 'Близнецы', 'Рак', 'Лев', 'Дева', 'Весы', 'Скорпион', 'Стрелец', 'Козерог']\n",
    "\n",
    "day = int(input('Введите день: '))\n",
    "month = str(input('Введите месяц: ')).lower()\n",
    "\n",
    "for n in range(0,13):\n",
    "  if date(2000,month_dict[month],day) <= date_list[n]: \n",
    "    print('Ваш знак зодиака: {}'.format(sign_list[n]))\n",
    "    break\n",
    "    "
   ]
  },
  {
   "cell_type": "code",
   "execution_count": 10,
   "metadata": {},
   "outputs": [
    {
     "name": "stdout",
     "output_type": "stream",
     "text": [
      "Упаковка для лыж\n"
     ]
    }
   ],
   "source": [
    "### Задание 4\n",
    "\n",
    "width = 10\n",
    "length = 205\n",
    "height = 5\n",
    "\n",
    "if width < 15 and length < 15 and height < 15:\n",
    "  print('Коробка №1')\n",
    "elif (width > 15 or length > 15 or height > 15) and (width < 50 and length < 50 and height < 50):\n",
    "  print('Коробка №2')\n",
    "elif length > 200:\n",
    "  print('Упаковка для лыж')\n",
    "else:\n",
    "  print('Стандартная коробка №3')\n"
   ]
  },
  {
   "cell_type": "code",
   "execution_count": 11,
   "metadata": {},
   "outputs": [
    {
     "name": "stdout",
     "output_type": "stream",
     "text": [
      "Введите номер билета (6 цифр): 123456\n",
      "Неасчастливый билет\n"
     ]
    }
   ],
   "source": [
    "### Задание 5, пример 1\n",
    "\n",
    "ticket_number = input('Введите номер билета (6 цифр): ')\n",
    "\n",
    "number_1 = 0\n",
    "number_2 = 0\n",
    "left_number = 0\n",
    "right_number = 0\n",
    "\n",
    "if ticket_number.isdigit() and len(ticket_number) == 6:\n",
    "  for number_1 in range(0,3):\n",
    "    left_number = left_number + int(str(ticket_number)[number_1])  \n",
    "\n",
    "  for number_2 in range(3,6):\n",
    "    right_number = right_number + int(str(ticket_number)[number_2])\n",
    "\n",
    "  if left_number == right_number:\n",
    "    print('Счастливый билет')\n",
    "  else:\n",
    "    print('Неасчастливый билет') # в задании опечатка в слове \"Не_а_счастливый\"\n",
    "  \n",
    "else:\n",
    "  print('Неверный номер билета')\n"
   ]
  },
  {
   "cell_type": "code",
   "execution_count": 12,
   "metadata": {},
   "outputs": [
    {
     "name": "stdout",
     "output_type": "stream",
     "text": [
      "Введите номер билета (6 цифр): 123321\n",
      "Счастливый билет\n"
     ]
    }
   ],
   "source": [
    "### Задание 5, пример 2\n",
    "\n",
    "ticket_number = input('Введите номер билета (6 цифр): ')\n",
    "\n",
    "number_1 = 0\n",
    "number_2 = 0\n",
    "left_number = 0\n",
    "right_number = 0\n",
    "\n",
    "if ticket_number.isdigit() and len(ticket_number) == 6:\n",
    "  for number_1 in range(0,3):\n",
    "    left_number = left_number + int(str(ticket_number)[number_1])  \n",
    "\n",
    "  for number_2 in range(3,6):\n",
    "    right_number = right_number + int(str(ticket_number)[number_2])\n",
    "\n",
    "  if left_number == right_number:\n",
    "    print('Счастливый билет')\n",
    "  else:\n",
    "    print('Неасчастливый билет') # в задании опечатка в слове \"Не_а_счастливый\"\n",
    "  \n",
    "else:\n",
    "  print('Неверный номер билета')\n"
   ]
  },
  {
   "cell_type": "code",
   "execution_count": 17,
   "metadata": {},
   "outputs": [
    {
     "name": "stdout",
     "output_type": "stream",
     "text": [
      "Вид фигуры (1 - круг; 2 - треугольник; 3 - прямоугольник): 1\n",
      "Введите радиус круга: 10\n",
      "Площадь круга:  314.16\n"
     ]
    }
   ],
   "source": [
    "### Задание 6, пример 1\n",
    "\n",
    "shape = input('Вид фигуры (1 - круг; 2 - треугольник; 3 - прямоугольник): ')\n",
    "\n",
    "if not shape.isdigit():\n",
    "  shape == 0\n",
    "# else:\n",
    "#   continue\n",
    "\n",
    "if shape == '1':\n",
    "  import math\n",
    "  radius = int(input('Введите радиус круга: '))\n",
    "  print('Площадь круга: ', round(math.pi * (radius ** 2), 2))\n",
    "elif shape == '2':\n",
    "  side_a = int(input('Введите длину стороны A: '))\n",
    "  side_b = int(input('Введите длину стороны B: '))\n",
    "  side_c = int(input('Введите длину стороны C: '))\n",
    "  half_perimeter = (side_a + side_b + side_c) / 2\n",
    "  print('Площадь треугольника: ', round(((half_perimeter * (half_perimeter - side_a) * (half_perimeter - side_b) * (half_perimeter - side_c)) ** 0.5), 2))\n",
    "elif shape == '3':\n",
    "  side_a = int(input('Введите длину стороны A: '))\n",
    "  side_b = int(input('Введите длину стороны B: '))\n",
    "  print('Площадь прямоугольника: ', round(side_a * side_b, 2))\n",
    "else:\n",
    "  print('Неизвестная фигура')\n"
   ]
  },
  {
   "cell_type": "code",
   "execution_count": 18,
   "metadata": {},
   "outputs": [
    {
     "name": "stdout",
     "output_type": "stream",
     "text": [
      "Вид фигуры (1 - круг; 2 - треугольник; 3 - прямоугольник): 2\n",
      "Введите длину стороны A: 2\n",
      "Введите длину стороны B: 2\n",
      "Введите длину стороны C: 3\n",
      "Площадь треугольника:  1.98\n"
     ]
    }
   ],
   "source": [
    "### Задание 6, пример 2\n",
    "\n",
    "shape = input('Вид фигуры (1 - круг; 2 - треугольник; 3 - прямоугольник): ')\n",
    "\n",
    "if not shape.isdigit():\n",
    "  shape == 0\n",
    "# else:\n",
    "#   continue\n",
    "\n",
    "if shape == '1':\n",
    "  import math\n",
    "  radius = int(input('Введите радиус круга: '))\n",
    "  print('Площадь круга: ', round(math.pi * (radius ** 2), 2))\n",
    "elif shape == '2':\n",
    "  side_a = int(input('Введите длину стороны A: '))\n",
    "  side_b = int(input('Введите длину стороны B: '))\n",
    "  side_c = int(input('Введите длину стороны C: '))\n",
    "  half_perimeter = (side_a + side_b + side_c) / 2\n",
    "  print('Площадь треугольника: ', round(((half_perimeter * (half_perimeter - side_a) * (half_perimeter - side_b) * (half_perimeter - side_c)) ** 0.5), 2))\n",
    "elif shape == '3':\n",
    "  side_a = int(input('Введите длину стороны A: '))\n",
    "  side_b = int(input('Введите длину стороны B: '))\n",
    "  print('Площадь прямоугольника: ', round(side_a * side_b, 2))\n",
    "else:\n",
    "  print('Неизвестная фигура')\n"
   ]
  },
  {
   "cell_type": "code",
   "execution_count": null,
   "metadata": {},
   "outputs": [],
   "source": []
  }
 ],
 "metadata": {
  "kernelspec": {
   "display_name": "Python 3",
   "language": "python",
   "name": "python3"
  },
  "language_info": {
   "codemirror_mode": {
    "name": "ipython",
    "version": 3
   },
   "file_extension": ".py",
   "mimetype": "text/x-python",
   "name": "python",
   "nbconvert_exporter": "python",
   "pygments_lexer": "ipython3",
   "version": "3.8.5"
  }
 },
 "nbformat": 4,
 "nbformat_minor": 4
}
