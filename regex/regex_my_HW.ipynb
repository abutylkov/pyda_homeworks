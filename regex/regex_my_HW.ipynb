{
 "cells": [
  {
   "cell_type": "markdown",
   "metadata": {
    "id": "XBKwdIyUEx9r"
   },
   "source": [
    "Домашнее задание к лекции \"Регулярные выражения\"\n",
    "Внимание! При реализации всех заданий необходимо использовать именно функционал регулярных выражений для обработки текста.\n",
    "\n"
   ]
  },
  {
   "cell_type": "markdown",
   "metadata": {
    "id": "cXZ8uhTjFUD_"
   },
   "source": [
    "Задание 1\n",
    "Напишите функцию, которая принимает на вход строку и проверяет является ли она валидным транспортным номером (1 буква, 3 цифры, 2 буквы, 2-3 цифры). Обратите внимание, что не все буквы кириллического алфавита используются в транспортных номерах.\n",
    "\n",
    "Если номер валиден, то функция должна возвращать отдельно номер и регион.\n",
    "\n",
    "Примеры работы программы:\n",
    "\n",
    "car_id = 'A222BC96'\n",
    "Результат: Номер A222BС валиден. Регион: 96\n",
    "\n",
    "car_id = 'АБ22ВВ193'\n",
    "Результат: Номер не валиден"
   ]
  },
  {
   "cell_type": "code",
   "execution_count": 37,
   "metadata": {
    "colab": {
     "base_uri": "https://localhost:8080/"
    },
    "id": "5_XVKbHUah08",
    "outputId": "445896ed-9122-49d1-fe7a-cc4959e31668"
   },
   "outputs": [
    {
     "name": "stdout",
     "output_type": "stream",
     "text": [
      "Введите регистрационный номерной знак: r888bv7777\n",
      "Номер не валиден\n"
     ]
    }
   ],
   "source": [
    "import re\n",
    "\n",
    "def reg_number_check(reg_number):\n",
    "  # [буква_из_списка{1}   \\d{3}    буква_из_списка{2}    \\d{2-3}]\n",
    "  reg_number_pattern = '([АВЕКМНОРСТУХABEKMHOPCTYX]\\d{3}[АВЕКМНОРСТУХABEKMHOPCTYX]{2})(\\d{2,3})'\n",
    "  reg_number_list = re.findall(reg_number_pattern, reg_number)\n",
    "  # если номер правильный, то сработает try (если неправильный, то ошибка будет на строке с join'ом)\n",
    "  try:\n",
    "    reg_number_full = ''.join(reg_number_list[0])\n",
    "    return print('Номер {} валиден. Регион: {}'.format(reg_number_list[0][0], reg_number_list[0][1]))\n",
    "  # если номер неверный, то сработает except\n",
    "  except:\n",
    "    return print('Номер не валиден')\n",
    "\n",
    "\n",
    "reg_number = input('Введите регистрационный номерной знак: ')\n",
    "reg_number_check(reg_number)\n"
   ]
  },
  {
   "cell_type": "markdown",
   "metadata": {
    "id": "r3-xesThE3LK"
   },
   "source": [
    "Задание 2\n",
    "Напишите функцию, которая будет удалять все последовательные повторы слов из заданной строки при помощи регулярных выражений.\n",
    "\n",
    "Пример работы программы:\n",
    "\n",
    "some_string = 'Напишите функцию функцию, которая будет будет будет будет удалять все все все все последовательные повторы слов из из из из заданной строки строки при помощи регулярных выражений.'\n",
    "\n",
    "Результат:\n",
    "Напишите функцию, которая будет удалять все последовательные повторы слов из заданной строки при помощи регулярных выражений."
   ]
  },
  {
   "cell_type": "code",
   "execution_count": 3,
   "metadata": {
    "colab": {
     "base_uri": "https://localhost:8080/",
     "height": 36
    },
    "id": "ACwGldmdE3lD",
    "outputId": "ee00eb16-5a37-4acc-cd8f-06b6e2633919"
   },
   "outputs": [
    {
     "data": {
      "text/plain": [
       "'Напишите функцию, которая будет удалять все последовательные повторы слов из заданной строки при помощи регулярных выражений.'"
      ]
     },
     "execution_count": 3,
     "metadata": {},
     "output_type": "execute_result"
    }
   ],
   "source": [
    "import re\n",
    "some_string = 'Напишите функцию функцию, которая будет будет будет будет удалять все все все все последовательные повторы слов из из из из заданной строки строки при помощи регулярных выражений.'\n",
    "\n",
    "def norepit(some_string):\n",
    "  # \\b ... \\b - границы слова\n",
    "  # (\\w+) - первая скобочная группа - любое количество любых символов (буквы, цифры, _)\n",
    "  # (\\s\\1)+ - вторая скобочная группа - пробел и повтор первой скобочной группы 1 или более раз\n",
    "  #  r'\\1' - замена на первую скобочную группу\n",
    "  # flags=re.I - регистронезависимая замена\n",
    "  return re.sub(r'\\b(\\w+)(\\s\\1)+\\b', r'\\1', some_string, flags=re.I)\n",
    "\n",
    "some_string = 'Напишите функцию функцию, которая будет будет будет будет удалять все все все все последовательные повторы слов из из из из заданной строки строки при помощи регулярных выражений.'\n",
    "norepit(some_string)"
   ]
  },
  {
   "cell_type": "markdown",
   "metadata": {
    "id": "Ka4KQ7vPE75J"
   },
   "source": [
    "Задание 3\n",
    "Напишите функцию, которая будет возвращать акроним по переданной в нее строке со словами.\n",
    "\n",
    "Примеры работы программы:\n",
    "\n",
    "some_words = 'Информационные технологии'\n",
    "Результат: ИТ\n",
    "\n",
    "some_words = 'Near Field Communication'\n",
    "Результат: NFC"
   ]
  },
  {
   "cell_type": "code",
   "execution_count": 4,
   "metadata": {
    "colab": {
     "base_uri": "https://localhost:8080/"
    },
    "id": "IOGD4D_JE8BM",
    "outputId": "ad112eb4-2314-4cfa-cab0-b58c49b1fa23"
   },
   "outputs": [
    {
     "name": "stdout",
     "output_type": "stream",
     "text": [
      "ИТ\n",
      "NFC\n",
      "БСЭ\n",
      "BMW\n"
     ]
    }
   ],
   "source": [
    "import re\n",
    "\n",
    "def acronym(expression):\n",
    "  acronym_pattern = r'\\b\\w'\n",
    "\n",
    "  for item in expression:\n",
    "    print(''.join(re.findall(acronym_pattern, item)).upper())\n",
    "    \n",
    "# Вручную долго вводить, пожтому на входе список выражений\n",
    "some_words = ['Информационные технологии', 'Near Field Communication', 'Большая Советская энциклопедия', 'Bayerische Motoren Werke']\n",
    "acronym(some_words)\n"
   ]
  },
  {
   "cell_type": "markdown",
   "metadata": {
    "id": "piExRmarE_AU"
   },
   "source": [
    "Задание 4\n",
    "Напишите функцию, которая будет принимать на вход список email-адресов и выводить их распределение по доменным зонам.\n",
    "\n",
    "Пример работы программы:\n",
    "\n",
    "emails = ['test@gmail.com', 'xyz@test.in', 'test@ya.ru', 'xyz@mail.ru', 'xyz@ya.ru', 'xyz@gmail.com']\n",
    "\n",
    "Результат:\n",
    "\n",
    "gmail.com: 2\n",
    "test.in: 1 \n",
    "ya.ru: 2 \n",
    "mail.ru: 1"
   ]
  },
  {
   "cell_type": "code",
   "execution_count": 26,
   "metadata": {
    "colab": {
     "base_uri": "https://localhost:8080/"
    },
    "id": "elKxqit6E_My",
    "outputId": "fbde69a1-2c15-4106-e446-b672425c9673"
   },
   "outputs": [
    {
     "name": "stdout",
     "output_type": "stream",
     "text": [
      "gmail.com: 2 test.in: 1 ya.ru: 2 mail.ru: 1\n"
     ]
    }
   ],
   "source": [
    "emails = ['test@gmail.com', 'xyz@test.in', 'test@ya.ru', 'xyz@mail.ru', 'xyz@ya.ru', 'xyz@gmail.com']\n",
    "find_at = r'(?<=@)\\w+.\\w+'\n",
    "domain_list = re.findall(find_at, ' '.join(emails)) # список всех доменов\n",
    "unique_domain_list = list(dict.fromkeys(domain_list)) # только уникальные домены\n",
    "out_list = []\n",
    "\n",
    "for item in unique_domain_list:\n",
    "    out_list.append(item + ': '+ str(domain_list.count(item)))\n",
    "\n",
    "print(' '.join(out_list))\n"
   ]
  },
  {
   "cell_type": "markdown",
   "metadata": {
    "id": "X9FPkXLjFC1b"
   },
   "source": [
    "Задание 5 (необязательное)\n",
    "Напишите функцию, которая будет подсчитывать сколько слов начинается на гласные, а сколько на согласные буквы в тексте (текст может быть написан как с использованием букв кириллицы, так и латиницы).\n",
    "\n",
    "Пример работы программы:\n",
    "\n",
    "some_text = 'Эталонной реализацией Python является интерпретатор CPython, поддерживающий большинство активно используемых платформ. Он распространяется под свободной лицензией Python Software Foundation License, позволяющей использовать его без ограничений в любых приложениях, включая проприетарные.'\n",
    "\n",
    "Результат:\n",
    "\n",
    "Слов на гласные буквы: 9\n",
    "Слов на согласные буквы: 21\n"
   ]
  },
  {
   "cell_type": "code",
   "execution_count": 74,
   "metadata": {},
   "outputs": [
    {
     "name": "stdout",
     "output_type": "stream",
     "text": [
      "Слов на гласные буквы: 9 Слов на согласные буквы: 21\n"
     ]
    }
   ],
   "source": [
    "some_text = 'Эталонной реализацией Python является интерпретатор CPython, поддерживающий большинство активно используемых платформ. Он распространяется под свободной лицензией Python Software Foundation License, позволяющей использовать его без ограничений в любых приложениях, включая проприетарные.'\n",
    "vowel_pattern = r'\\b[аеёиоуыэюяaeiou]'\n",
    "consonant_pattern = r'\\b[(бвгджзйклмнпрстфхцчшщbcdfghjklmnpqrstvwxyz]'\n",
    "vowel_count = len(re.findall(vowel_pattern, some_text, flags=re.IGNORECASE))\n",
    "consonant_count = len(re.findall(consonant_pattern, some_text, flags=re.IGNORECASE))\n",
    "print(f'Слов на гласные буквы: {vowel_count} Слов на согласные буквы: {consonant_count}')"
   ]
  },
  {
   "cell_type": "markdown",
   "metadata": {
    "id": "W3Tr7_KdFKAX"
   },
   "source": [
    "Задание 6 (необязательное)\n",
    "Напишите функцию, которая будет проверять номер сотового телефона на валидность (только для российского формата), если он валиден, то переводить его в формат:\n",
    "+7-xxx-xxx-xx-xx\n",
    "Постарайтесь предусмотреть как можно больше адекватных форматов изначального ввода номера. Примеры работы программы:\n",
    "\n",
    "phone = '+7 955 555-55-55'\n",
    "Результат: +7-950-555-55-55\n",
    "\n",
    "phone = '8(955)555-55-55'\n",
    "Результат: +7-950-555-55-55\n",
    "\n",
    "phone = '+7 955 555 55 55'\n",
    "Результат: +7-950-555-55-55\n",
    "\n",
    "phone = '7(955) 555-55-55'\n",
    "Результат: +7-950-555-55-55\n",
    "\n",
    "phone = '423-555-55-5555'\n",
    "Результат: Номер не валиден\n",
    "\n",
    "phone = '123-456-789'\n",
    "Результат: Номер не валиден\n"
   ]
  },
  {
   "cell_type": "code",
   "execution_count": 133,
   "metadata": {
    "id": "wq8E7cR8FK0Z"
   },
   "outputs": [
    {
     "name": "stdout",
     "output_type": "stream",
     "text": [
      "1) +7-955-555-55-55\n",
      "2) +7-955-555-55-55\n",
      "3) +7-955-555-55-55\n",
      "4) +7-955-555-55-55\n",
      "5) Номер не валиден\n",
      "6) Номер не валиден\n",
      "7) +7-901-852-16-19\n",
      "8) +7-902-462-89-32\n",
      "9) +7-926-321-56-16\n",
      "10) +7-903-924-15-84\n"
     ]
    }
   ],
   "source": [
    "import re\n",
    "\n",
    "# phone = '+7 955 555-55-55'\n",
    "# phone = '8(955)555-55-55'\n",
    "# phone = '+7 955 555 55 55'\n",
    "# phone = '7(955) 555-55-55'\n",
    "# phone = '423-555-55-5555'\n",
    "# phone = '123-456-789'\n",
    "# 89018521619\n",
    "# 8(902)4628932\n",
    "# +7926 321 5616\n",
    "# +7 (903) 9241584\n",
    "phone_list = ['+7 955 555-55-55', '8(955)555-55-55', '+7 955 555 55 55', '7(955) 555-55-55', '423-555-55-5555', '123-456-789', '89018521619', '8(902)4628932', '+7926 321 5616', '+7 (903) 9241584']\n",
    "\n",
    "phone_pattern = r'\\W*[78]\\W*9\\d{2}\\W*\\d{3}\\W*\\d{2}\\W*\\d{2}'\n",
    "phone_pattern_group = r'\\W*[78]\\W*(9\\d{2})\\W*(\\d{3})\\W*(\\d{2})\\W*(\\d{2})'\n",
    "etalon_pattern = r'+7-\\1-\\2-\\3-\\4'\n",
    "\n",
    "for n, item in enumerate(phone_list):\n",
    "    match = re.fullmatch(phone_pattern, item)\n",
    "    print(n+1, \") \", re.sub(phone_pattern_group, etalon_pattern, item) if match else 'Номер не валиден', sep='')\n"
   ]
  },
  {
   "cell_type": "code",
   "execution_count": null,
   "metadata": {},
   "outputs": [],
   "source": []
  }
 ],
 "metadata": {
  "colab": {
   "collapsed_sections": [],
   "name": "regex_my_HW.ipynb",
   "provenance": []
  },
  "kernelspec": {
   "display_name": "Python 3",
   "language": "python",
   "name": "python3"
  },
  "language_info": {
   "codemirror_mode": {
    "name": "ipython",
    "version": 3
   },
   "file_extension": ".py",
   "mimetype": "text/x-python",
   "name": "python",
   "nbconvert_exporter": "python",
   "pygments_lexer": "ipython3",
   "version": "3.8.5"
  }
 },
 "nbformat": 4,
 "nbformat_minor": 1
}
