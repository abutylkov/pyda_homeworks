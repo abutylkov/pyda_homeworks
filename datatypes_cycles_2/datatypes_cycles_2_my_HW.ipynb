{
 "cells": [
  {
   "cell_type": "code",
   "execution_count": 1,
   "metadata": {},
   "outputs": [],
   "source": [
    "# Задание 1\n",
    "# Дана переменная, в которой хранится словарь, содержащий гео-метки для каждого пользователя (пример структуры данных приведен ниже). Вам необходимо написать программу, которая выведет на экран множество уникальных гео-меток всех пользователей.\n",
    "\n",
    "# Пример работы программы:\n",
    "\n",
    "# ids = {'user1': [213, 213, 213, 15, 213], \n",
    "#        'user2': [54, 54, 119, 119, 119], \n",
    "#        'user3': [213, 98, 98, 35]}\n",
    "# Результат: {98, 35, 15, 213, 54, 119}\n"
   ]
  },
  {
   "cell_type": "code",
   "execution_count": 2,
   "metadata": {},
   "outputs": [
    {
     "name": "stdout",
     "output_type": "stream",
     "text": [
      "{98, 35, 15, 213, 54, 119}\n"
     ]
    }
   ],
   "source": [
    "### Var 1\n",
    "ids = {'user1': [213, 213, 213, 15, 213],\n",
    "       'user2': [54, 54, 119, 119, 119],\n",
    "       'user3': [213, 98, 98, 35]}\n",
    "\n",
    "\n",
    "new_set = set()\n",
    "for values in ids.values():\n",
    "    for num in values:\n",
    "        new_set.add(num)\n",
    "print(new_set)\n"
   ]
  },
  {
   "cell_type": "code",
   "execution_count": 3,
   "metadata": {},
   "outputs": [
    {
     "name": "stdout",
     "output_type": "stream",
     "text": [
      "{98, 35, 15, 213, 54, 119}\n"
     ]
    }
   ],
   "source": [
    "### Var 2\n",
    "ids = {'user1': [213, 213, 213, 15, 213],\n",
    "       'user2': [54, 54, 119, 119, 119],\n",
    "       'user3': [213, 98, 98, 35]}\n",
    "\n",
    "new_set = set()\n",
    "[[new_set.add(num) for num in values] for values in ids.values()]    \n",
    "print(new_set)\n"
   ]
  },
  {
   "cell_type": "code",
   "execution_count": 4,
   "metadata": {},
   "outputs": [
    {
     "name": "stdout",
     "output_type": "stream",
     "text": [
      "{98, 35, 15, 213, 54, 119}\n"
     ]
    }
   ],
   "source": [
    "### Var 3\n",
    "ids = {'user1': [213, 213, 213, 15, 213],\n",
    "       'user2': [54, 54, 119, 119, 119],\n",
    "       'user3': [213, 98, 98, 35]}\n",
    "\n",
    "print(set(sum(ids.values(), [])))\n"
   ]
  },
  {
   "cell_type": "code",
   "execution_count": 5,
   "metadata": {},
   "outputs": [],
   "source": [
    "# Задание 2\n",
    "# Дана переменная, в которой хранится список поисковых запросов пользователя (пример структуры данных приведен ниже). Вам необходимо написать программу, которая выведет на экран распределение количества слов в запросах в требуемом виде.\n",
    "\n",
    "# Пример работы программы:\n",
    "\n",
    "# queries = [\n",
    "#     'смотреть сериалы онлайн',\n",
    "#     'новости спорта',\n",
    "#     'афиша кино',\n",
    "#     'курс доллара',\n",
    "#     'сериалы этим летом',\n",
    "#     'курс по питону',\n",
    "#     'сериалы про спорт',\n",
    "# ]\n",
    "# Результат:\n",
    "\n",
    "# Поисковых запросов, содержащих 2 слов(а): 42.86%\n",
    "# Поисковых запросов, содержащих 3 слов(а): 57.14%"
   ]
  },
  {
   "cell_type": "code",
   "execution_count": 6,
   "metadata": {},
   "outputs": [
    {
     "name": "stdout",
     "output_type": "stream",
     "text": [
      "Поисковых запросов, содержащих 2 слов(а): 42.86%\n",
      "Поисковых запросов, содержащих 3 слов(а): 57.14%\n"
     ]
    }
   ],
   "source": [
    "### Var 1\n",
    "### только для выражений из 2 и трех слов\n",
    "queries = [\n",
    "    'смотреть сериалы онлайн',\n",
    "    'новости спорта',\n",
    "    'афиша кино',\n",
    "    'курс доллара',\n",
    "    'сериалы этим летом',\n",
    "    'курс по питону',\n",
    "    'сериалы про спорт'\n",
    "]\n",
    "\n",
    "count_2 = len([line for line in queries if len(line.split(' ')) == 2])\n",
    "count_3 = len([line for line in queries if len(line.split(' ')) == 3])\n",
    "\n",
    "count_2_perc = round(count_2 / len(queries) * 100, 2)\n",
    "count_3_perc = round(count_3 / len(queries) * 100, 2)\n",
    "\n",
    "print(f'Поисковых запросов, содержащих 2 слов(а): {count_2_perc}%')\n",
    "print(f'Поисковых запросов, содержащих 3 слов(а): {count_3_perc}%')\n"
   ]
  },
  {
   "cell_type": "code",
   "execution_count": 7,
   "metadata": {},
   "outputs": [
    {
     "name": "stdout",
     "output_type": "stream",
     "text": [
      "Поисковых запросов, содержащих 1 слов(а): 10.0%\n",
      "Поисковых запросов, содержащих 2 слов(а): 30.0%\n",
      "Поисковых запросов, содержащих 3 слов(а): 40.0%\n",
      "Поисковых запросов, содержащих 5 слов(а): 10.0%\n",
      "Поисковых запросов, содержащих 7 слов(а): 10.0%\n"
     ]
    }
   ],
   "source": [
    "### Var 2 доработанный\n",
    "### не зависит от количества слов, добавил строки в 'queries'\n",
    "queries = [\n",
    "    'смотреть сериалы онлайн',\n",
    "    'новости спорта',\n",
    "    'афиша кино',\n",
    "    'курс доллара',\n",
    "    'сериалы этим летом',\n",
    "    'курс по питону',\n",
    "    'сериалы про спорт',\n",
    "    'кино про все такое прочее',\n",
    "    'строка с большим количеством слов для теста',\n",
    "    'одно_слово'\n",
    "]\n",
    "\n",
    "# определяем максимальное количество слов в одной строке\n",
    "max_words = max([len(value.split(' ')) for value in queries]) + 1\n",
    "\n",
    "# цикл по количеству слов с подстановкой в вывод\n",
    "for w in range(max_words):\n",
    "    counter = 0\n",
    "    for value in queries:\n",
    "        if len(value.split(' ')) == w:\n",
    "            counter = counter + 1\n",
    "        else:\n",
    "            continue\n",
    "    \n",
    "    if counter > 0: # отсекаем количество слов, которое не встречается в исходном списке\n",
    "        print(f'Поисковых запросов, содержащих {w} слов(а): {round(counter / len(queries) * 100, 2)}%')    \n"
   ]
  },
  {
   "cell_type": "code",
   "execution_count": 8,
   "metadata": {},
   "outputs": [],
   "source": [
    "# Задание 3\n",
    "# Дана переменная, в которой хранится информация о затратах и доходе рекламных кампаний по различным источникам. Необходимо дополнить исходную структуру показателем ROI, который рассчитаем по формуле: (revenue / cost - 1) * 100\n",
    "\n",
    "# Пример работы программы:\n",
    "\n",
    "# results = {\n",
    "#     'vk': {'revenue': 103, 'cost': 98},\n",
    "#     'yandex': {'revenue': 179, 'cost': 153},\n",
    "#     'facebook': {'revenue': 103, 'cost': 110},\n",
    "#     'adwords': {'revenue': 35, 'cost': 34},\n",
    "#     'twitter': {'revenue': 11, 'cost': 24},\n",
    "# }\n",
    "# Результат:\n",
    "\n",
    "# {'adwords': {'revenue': 35, 'cost': 34, 'ROI': 2.94},\n",
    "#  'facebook': {'revenue': 103, 'cost': 110, 'ROI': -6.36},\n",
    "#  'twitter': {'revenue': 11, 'cost': 24, 'ROI': -54.17},\n",
    "#  'vk': {'revenue': 103, 'cost': 98, 'ROI': 5.1},\n",
    "#  'yandex': {'revenue': 179, 'cost': 153, 'ROI': 16.99}}"
   ]
  },
  {
   "cell_type": "code",
   "execution_count": 9,
   "metadata": {},
   "outputs": [
    {
     "data": {
      "text/plain": [
       "{'adwords': {'revenue': 35, 'cost': 34, 'ROI': 2.94},\n",
       " 'facebook': {'revenue': 103, 'cost': 110, 'ROI': -6.36},\n",
       " 'twitter': {'revenue': 11, 'cost': 24, 'ROI': -54.17},\n",
       " 'vk': {'revenue': 103, 'cost': 98, 'ROI': 5.1},\n",
       " 'yandex': {'revenue': 179, 'cost': 153, 'ROI': 16.99}}"
      ]
     },
     "execution_count": 9,
     "metadata": {},
     "output_type": "execute_result"
    }
   ],
   "source": [
    "### Var 1\n",
    "### с вынесенной функцией расчета ROI\n",
    "results = {\n",
    "    'vk': {'revenue': 103, 'cost': 98},\n",
    "    'yandex': {'revenue': 179, 'cost': 153},\n",
    "    'facebook': {'revenue': 103, 'cost': 110},\n",
    "    'adwords': {'revenue': 35, 'cost': 34},\n",
    "    'twitter': {'revenue': 11, 'cost': 24},\n",
    "}\n",
    "\n",
    "# функция расчета ROI\n",
    "def ROI_calc (revenue, cost):\n",
    "     return round((revenue / cost - 1) * 100, 2)\n",
    "\n",
    "for line in list(results.values()):\n",
    "    ROI = ROI_calc(list(line.values())[0], list(line.values())[1])\n",
    "    line['ROI'] = ROI\n",
    "dict(sorted(results.items(), key=lambda i: i[0]))\n"
   ]
  },
  {
   "cell_type": "code",
   "execution_count": 18,
   "metadata": {},
   "outputs": [
    {
     "data": {
      "text/plain": [
       "{'adwords': {'revenue': 35, 'cost': 34, 'ROI': 2.94},\n",
       " 'facebook': {'revenue': 103, 'cost': 110, 'ROI': -6.36},\n",
       " 'twitter': {'revenue': 11, 'cost': 24, 'ROI': -54.17},\n",
       " 'vk': {'revenue': 103, 'cost': 98, 'ROI': 5.1},\n",
       " 'yandex': {'revenue': 179, 'cost': 153, 'ROI': 16.99}}"
      ]
     },
     "execution_count": 18,
     "metadata": {},
     "output_type": "execute_result"
    }
   ],
   "source": [
    "### Var 2\n",
    "### без выноса расчета ROI\n",
    "results = {\n",
    "    'vk': {'revenue': 103, 'cost': 98},\n",
    "    'yandex': {'revenue': 179, 'cost': 153},\n",
    "    'facebook': {'revenue': 103, 'cost': 110},\n",
    "    'adwords': {'revenue': 35, 'cost': 34},\n",
    "    'twitter': {'revenue': 11, 'cost': 24},\n",
    "}\n",
    "\n",
    "for line in list(results.values()):\n",
    "    revenue = list(line.values())[0]\n",
    "    cost = list(line.values())[1]\n",
    "    ROI = round((revenue / cost - 1) * 100, 2)\n",
    "    line['ROI'] = ROI\n",
    "dict(sorted(results.items(), key=lambda i: i[0]))"
   ]
  },
  {
   "cell_type": "code",
   "execution_count": 10,
   "metadata": {},
   "outputs": [],
   "source": [
    "# Задание 4\n",
    "# Дана переменная, в которой хранится статистика рекламных каналов по объемам продаж (пример структуры данных приведен ниже). Напишите программу, которая возвращает название канала с максимальным объемом продаж.\n",
    "\n",
    "# Пример работы программы:\n",
    "\n",
    "# stats = {'facebook': 55, 'yandex': 115, 'vk': 120, 'google': 99, 'email': 42, 'ok': 98}\n",
    "\n",
    "# Результат: Максимальный объем продаж на рекламном канале: vk"
   ]
  },
  {
   "cell_type": "code",
   "execution_count": 11,
   "metadata": {},
   "outputs": [
    {
     "name": "stdout",
     "output_type": "stream",
     "text": [
      "Максимальный объем продаж на рекламном канале: vk\n"
     ]
    }
   ],
   "source": [
    "### Var 1\n",
    "### цикл\n",
    "stats = {'facebook': 55, 'yandex': 115, 'vk': 120, 'google': 99, 'email': 42, 'ok': 98}\n",
    "\n",
    "for key, value in stats.items():\n",
    "    if value == max(stats.values()):\n",
    "        print(f'Максимальный объем продаж на рекламном канале: {key}')\n"
   ]
  },
  {
   "cell_type": "code",
   "execution_count": 12,
   "metadata": {},
   "outputs": [
    {
     "name": "stdout",
     "output_type": "stream",
     "text": [
      "Максимальный объем продаж на рекламном канале: vk\n"
     ]
    }
   ],
   "source": [
    "### Var 2\n",
    "### list comprehension\n",
    "stats = {'facebook': 55, 'yandex': 115, 'vk': 120, 'google': 99, 'email': 42, 'ok': 98}\n",
    "\n",
    "ch_name = [(key) for key, value in stats.items() if value == max(stats.values())]\n",
    "print(f'Максимальный объем продаж на рекламном канале: {ch_name[0]}')\n"
   ]
  },
  {
   "cell_type": "code",
   "execution_count": 13,
   "metadata": {},
   "outputs": [],
   "source": [
    "# Задание 5 (необязательно)\n",
    "# Дан список произвольной длины. Необходимо написать код, который на основе исходного списка составит словарь такого уровня вложенности, какова длина исхондого списка.\n",
    "\n",
    "# Примеры работы программы:\n",
    "\n",
    "# my_list = ['2018-01-01', 'yandex', 'cpc', 100]\n",
    "# Результат: {'2018-01-01': {'yandex': {'cpc': 100}}}\n",
    "\n",
    "# my_list = ['a', 'b', 'c', 'd', 'e', 'f']\n",
    "# Результат: {'a': {'b': {'c': {'d': {'e': 'f'}}}}}"
   ]
  },
  {
   "cell_type": "code",
   "execution_count": 14,
   "metadata": {},
   "outputs": [
    {
     "name": "stdout",
     "output_type": "stream",
     "text": [
      "{'2018-01-01': {'yandex': {'cpc': 100}}}\n"
     ]
    }
   ],
   "source": [
    "# 1\n",
    "my_list = ['2018-01-01', 'yandex', 'cpc', 100]\n",
    "my_dict = {}\n",
    "new_dict = {}\n",
    "new_dict[my_list[-2]] = my_list[-1] # первый словарь - последние два значения из исходного списка\n",
    "                          \n",
    "# просматриваем в обратном порядке оставшиеся в списке значения\n",
    "# и склеиваем значение с имеющимся словарем\n",
    "for i in reversed(range(len(my_list))):\n",
    "    if i > 1: # нужно, чтобы не зайти на \"новый круг\" позиций в исходном списке\n",
    "        key = my_list[i - 2] # -2, т.к. последние два значения списка уже ушли в первый словарь\n",
    "        val = new_dict # то, что станет значением в словаре\n",
    "        my_dict[key] = new_dict # заносим в словарь новый ключ и новое значение\n",
    "        new_dict = my_dict.copy() # копируем накопленный словарь\n",
    "        my_dict.clear() # очищаем накопленный словарь, чтобы не было эффекта снежного кома\n",
    "print(new_dict)\n"
   ]
  },
  {
   "cell_type": "code",
   "execution_count": 15,
   "metadata": {},
   "outputs": [
    {
     "name": "stdout",
     "output_type": "stream",
     "text": [
      "{'a': {'b': {'c': {'d': {'e': 'f'}}}}}\n"
     ]
    }
   ],
   "source": [
    "# 2\n",
    "my_list = ['a', 'b', 'c', 'd', 'e', 'f']\n",
    "my_dict = {}\n",
    "new_dict = {}\n",
    "new_dict[my_list[-2]] = my_list[-1] # первый словарь - последние два значения из исходного списка\n",
    "                          \n",
    "# просматриваем в обратном порядке оставшиеся в списке значения\n",
    "# и склеиваем значение с имеющимся словарем\n",
    "for i in reversed(range(len(my_list))):\n",
    "    if i > 1: # нужно, чтобы не зайти на \"новый круг\" позиций в исходном списке\n",
    "        key = my_list[i - 2] # -2, т.к. последние два значения списка уже ушли в первый словарь\n",
    "        val = new_dict # то, что станет значением в словаре\n",
    "        my_dict[key] = new_dict # заносим в словарь новый ключ и новое значение\n",
    "        new_dict = my_dict.copy() # копируем накопленный словарь\n",
    "        my_dict.clear() # очищаем накопленный словарь, чтобы не было эффекта снежного кома\n",
    "print(new_dict)\n"
   ]
  },
  {
   "cell_type": "code",
   "execution_count": 16,
   "metadata": {},
   "outputs": [],
   "source": [
    "# Задание 6 (необязательно)\n",
    "# Дана книга рецептов с информацией о том, сколько ингредиентов нужно для приготовления блюда в расчете на одну порцию (пример данных представлен ниже).\n",
    "# Напишите программу, которая будет запрашивать у пользователя количество порций для приготовления этих блюд и отображать информацию о суммарном количестве требуемых ингредиентов в указанном виде.\n",
    "# Внимание! Одинаковые ингридиенты с разными размерностями нужно считать раздельно!\n",
    "# Пример работы программы:\n",
    "\n",
    "# Введите количество порций:  \n",
    "# 3\n",
    "# Результат:\n",
    "\n",
    "# Сыр: 210 гр  \n",
    "# Томаты: 6 шт  \n",
    "# Огурцы: 60 гр  \n",
    "# Маслины: 30 гр  \n",
    "# Оливковое масло: 60 мл  \n",
    "# Салат: 30 гр  \n",
    "# Перец: 60 гр  \n",
    "# Колбаса: 90 гр  \n",
    "# Бекон: 90 гр  \n",
    "# Оливки: 30 гр  \n",
    "# Томаты: 60 гр  \n",
    "# Тесто: 300 гр  \n",
    "# Лимон: 3 шт  \n",
    "# Вода: 600 мл  \n",
    "# Сахар: 30 гр  \n",
    "# Лайм: 60 гр"
   ]
  },
  {
   "cell_type": "code",
   "execution_count": 17,
   "metadata": {},
   "outputs": [
    {
     "name": "stdout",
     "output_type": "stream",
     "text": [
      "Введите количество порций: 3\n",
      "Сыр: 210 гр\n",
      "Томаты: 6 шт\n",
      "Огурцы: 60 гр\n",
      "Маслины: 30 гр\n",
      "Оливковое масло: 60 мл\n",
      "Салат: 30 гр\n",
      "Перец: 60 гр\n",
      "Колбаса: 90 гр\n",
      "Бекон: 90 гр\n",
      "Оливки: 30 гр\n",
      "Томаты: 60 гр\n",
      "Тесто: 300 гр\n",
      "Лимон: 3 шт\n",
      "Вода: 600 мл\n",
      "Сахар: 30 гр\n",
      "Лайм: 60 гр\n"
     ]
    }
   ],
   "source": [
    "cook_book = {\n",
    "  'салат': [\n",
    "     {'ingridient_name': 'сыр', 'quantity': 50, 'measure': 'гр'},\n",
    "     {'ingridient_name': 'томаты', 'quantity': 2, 'measure': 'шт'},\n",
    "     {'ingridient_name': 'огурцы', 'quantity': 20, 'measure': 'гр'},\n",
    "     {'ingridient_name': 'маслины', 'quantity': 10, 'measure': 'гр'},\n",
    "     {'ingridient_name': 'оливковое масло', 'quantity': 20, 'measure': 'мл'},\n",
    "     {'ingridient_name': 'салат', 'quantity': 10, 'measure': 'гр'},\n",
    "     {'ingridient_name': 'перец', 'quantity': 20, 'measure': 'гр'}\n",
    "    ],\n",
    "  'пицца': [\n",
    "     {'ingridient_name': 'сыр', 'quantity': 20, 'measure': 'гр'},\n",
    "     {'ingridient_name': 'колбаса', 'quantity': 30, 'measure': 'гр'},\n",
    "     {'ingridient_name': 'бекон', 'quantity': 30, 'measure': 'гр'},\n",
    "     {'ingridient_name': 'оливки', 'quantity': 10, 'measure': 'гр'},\n",
    "     {'ingridient_name': 'томаты', 'quantity': 20, 'measure': 'гр'},\n",
    "     {'ingridient_name': 'тесто', 'quantity': 100, 'measure': 'гр'},   \n",
    "    ],\n",
    "  'лимонад': [\n",
    "     {'ingridient_name': 'лимон', 'quantity': 1, 'measure': 'шт'},\n",
    "     {'ingridient_name': 'вода', 'quantity': 200, 'measure': 'мл'},\n",
    "     {'ingridient_name': 'сахар', 'quantity': 10, 'measure': 'гр'},\n",
    "     {'ingridient_name': 'лайм', 'quantity': 20, 'measure': 'гр'},    \n",
    "    ]\n",
    "}\n",
    "\n",
    "portion = int(input('Введите количество порций: '))\n",
    "\n",
    "# каждое блюдо в один общий список словарей\n",
    "plates_list = []\n",
    "temp_list = []\n",
    "for plate, recipe in cook_book.items():\n",
    "    plates_list = list(plates_list + recipe)\n",
    "\n",
    "# делаем из словарей списки (список списков на выходе) \n",
    "ingr_list= [list(line.values()) for line in plates_list]\n",
    "\n",
    "# цикл по элементам списка списков\n",
    "for ingr, qty, msr in ingr_list:\n",
    "    if ingr not in temp_list: # легкая проверка на список дублирующихся ингредиентов\n",
    "        qty_cumul = 0\n",
    "        for each_line in plates_list: # идем по первоначальному списку\n",
    "            if each_line['ingridient_name'] == ingr and msr == each_line['measure']: # проверка названия и единицы измерения\n",
    "                qty_cumul += each_line['quantity'] # если продукт встречается более 1 раза, то суммируем\n",
    "        \n",
    "        if qty != qty_cumul: # если продукт встретился более 1 раза, то суем во временный список\n",
    "            temp_set = temp_list.append(ingr)\n",
    "        \n",
    "        qty_final = max(qty, qty_cumul) * portion # max нужен, т.к. qty_cumul не работает для уникальных продуктов\n",
    "        print(f'{ingr.capitalize()}: {qty_final} {msr}')\n"
   ]
  }
 ],
 "metadata": {
  "kernelspec": {
   "display_name": "Python 3",
   "language": "python",
   "name": "python3"
  },
  "language_info": {
   "codemirror_mode": {
    "name": "ipython",
    "version": 3
   },
   "file_extension": ".py",
   "mimetype": "text/x-python",
   "name": "python",
   "nbconvert_exporter": "python",
   "pygments_lexer": "ipython3",
   "version": "3.8.5"
  }
 },
 "nbformat": 4,
 "nbformat_minor": 4
}
