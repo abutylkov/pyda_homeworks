{
 "cells": [
  {
   "cell_type": "code",
   "execution_count": 2,
   "metadata": {},
   "outputs": [
    {
     "name": "stdout",
     "output_type": "stream",
     "text": [
      "es\n"
     ]
    }
   ],
   "source": [
    "### ### Task 1\n",
    "\n",
    "### Variant 1\n",
    "word = 'test'\n",
    "a = len(word) % 2\n",
    "middle = int(len(word)/2)\n",
    "if a == 0:\n",
    "  print(word[middle - 1:middle + 1])\n",
    "else:\n",
    "  print(word[middle])"
   ]
  },
  {
   "cell_type": "code",
   "execution_count": 3,
   "metadata": {},
   "outputs": [
    {
     "name": "stdout",
     "output_type": "stream",
     "text": [
      "t\n"
     ]
    }
   ],
   "source": [
    "### Variant 2\n",
    "word = 'testing'\n",
    "a = len(word) % 2\n",
    "middle = int(len(word)/2)\n",
    "if a == 0:\n",
    "  print(word[middle - 1:middle + 1])\n",
    "else:\n",
    "  print(word[middle])"
   ]
  },
  {
   "cell_type": "code",
   "execution_count": 4,
   "metadata": {},
   "outputs": [
    {
     "name": "stdout",
     "output_type": "stream",
     "text": [
      "Введите число: 1\n",
      "Введите число: 4\n",
      "Введите число: 6\n",
      "Введите число: 0\n",
      "11\n"
     ]
    }
   ],
   "source": [
    "### ### Task 2\n",
    "\n",
    "number = ''\n",
    "sum = 0\n",
    "while number != 0:\n",
    "  number = int(input('Введите число: '))\n",
    "  sum = sum + number\n",
    "print(sum)"
   ]
  },
  {
   "cell_type": "code",
   "execution_count": 5,
   "metadata": {},
   "outputs": [
    {
     "name": "stdout",
     "output_type": "stream",
     "text": [
      "Alex и Emma\n",
      "Arthur и Kate\n",
      "John и Kira\n",
      "Peter и Liza\n",
      "Richard и Trisha\n"
     ]
    }
   ],
   "source": [
    "### ### Task 3\n",
    "\n",
    "### Variant 1\n",
    "boys = ['Peter', 'Alex', 'John', 'Arthur', 'Richard']\n",
    "girls = ['Kate', 'Liza', 'Kira', 'Emma', 'Trisha']\n",
    "if len(boys) == len(girls):\n",
    "  for i in range(len(boys)):\n",
    "    print(sorted(boys)[i], 'и', sorted(girls)[i])\n",
    "else:\n",
    "  print('Внимание, кто-то может остаться без пары!')"
   ]
  },
  {
   "cell_type": "code",
   "execution_count": 6,
   "metadata": {},
   "outputs": [
    {
     "name": "stdout",
     "output_type": "stream",
     "text": [
      "Внимание, кто-то может остаться без пары!\n"
     ]
    }
   ],
   "source": [
    "### Variant 2\n",
    "boys = ['Peter', 'Alex', 'John', 'Arthur', 'Richard', 'Michael']\n",
    "girls = ['Kate', 'Liza', 'Kira', 'Emma', 'Trisha']\n",
    "\n",
    "if len(boys) == len(girls):\n",
    "  for i in range(len(boys)):\n",
    "    print(sorted(boys)[i], 'и', sorted(girls)[i])\n",
    "else:\n",
    "  print('Внимание, кто-то может остаться без пары!')"
   ]
  },
  {
   "cell_type": "code",
   "execution_count": 1,
   "metadata": {},
   "outputs": [
    {
     "name": "stdout",
     "output_type": "stream",
     "text": [
      "Средняя температура в странах:\n",
      "Thailand - 23.9\n",
      "Germany - 13.8\n",
      "Russia - 3.7\n",
      "Poland - 12.0\n"
     ]
    }
   ],
   "source": [
    "### ### Task 4\n",
    "\n",
    "countries_temperature = [\n",
    "['Thailand', [75.2, 77, 78.8, 73.4, 68, 75.2, 77]],\n",
    "['Germany', [57.2, 55.4, 59, 59, 53.6]],\n",
    "['Russia', [35.6, 37.4, 39.2, 41, 42.8, 39.2, 35.6]],\n",
    "['Poland', [50, 50, 53.6, 57.2, 55.4, 55.4]]\n",
    "]\n",
    "\n",
    "average_temp_F = 0\n",
    "print('Средняя температура в странах:')\n",
    "for i in range(len(countries_temperature)):\n",
    "  part1 = countries_temperature[i][0]\n",
    "  sum_temp_F = 0\n",
    "  for n in range(len(countries_temperature[i][1])):\n",
    "    sum_temp_F = sum_temp_F + countries_temperature[i][1][n]\n",
    "  average_temp_F = sum_temp_F / len(countries_temperature[i][1])\n",
    "  part2 = ((average_temp_F - 32) * 5 / 9)\n",
    "  print(f'{part1} - {part2:.1f}')"
   ]
  },
  {
   "cell_type": "code",
   "execution_count": 9,
   "metadata": {},
   "outputs": [
    {
     "name": "stdout",
     "output_type": "stream",
     "text": [
      "23.25\n"
     ]
    }
   ],
   "source": [
    "## ### Task 5\n",
    "\n",
    "### Variant 1\n",
    "stream = [\n",
    "'2018-01-01,user1,3',\n",
    "'2018-01-07,user1,4',\n",
    "'2018-03-29,user1,1',\n",
    "'2018-04-04,user1,13',\n",
    "'2018-01-05,user2,7',\n",
    "'2018-06-14,user3,4',\n",
    "'2018-07-02,user3,10',\n",
    "'2018-03-21,user4,19',\n",
    "'2018-03-22,user4,4',\n",
    "'2018-04-22,user4,8',\n",
    "'2018-05-03,user4,9',\n",
    "'2018-05-11,user4,11',\n",
    "]\n",
    "\n",
    "sum_views = 0\n",
    "users_set = set()\n",
    "for i in range (len(stream)):\n",
    "  log_string = stream[i].split(',')\n",
    "  sum_views = sum_views + int(log_string[-1])\n",
    "  users_set.add(log_string[1])\n",
    "\n",
    "print(round(sum_views / len(users_set),2))"
   ]
  },
  {
   "cell_type": "code",
   "execution_count": 10,
   "metadata": {},
   "outputs": [
    {
     "name": "stdout",
     "output_type": "stream",
     "text": [
      "145.33\n"
     ]
    }
   ],
   "source": [
    "### Variant 2\n",
    "stream = [\n",
    "'2018-01-01,user100,150',\n",
    "'2018-01-07,user99,205',\n",
    "'2018-03-29,user1001,81'\n",
    "]\n",
    "\n",
    "sum_views = 0\n",
    "users_set = set()\n",
    "for i in range (len(stream)):\n",
    "  log_string = stream[i].split(',')\n",
    "  sum_views = sum_views + int(log_string[-1])\n",
    "  users_set.add(log_string[1])\n",
    "\n",
    "print(round(sum_views / len(users_set),2))"
   ]
  },
  {
   "cell_type": "code",
   "execution_count": 11,
   "metadata": {},
   "outputs": [
    {
     "name": "stdout",
     "output_type": "stream",
     "text": [
      "Введите числа через пробел: 10 15 15 103 200 200 200 1 1 1 1 1 2 2 2\n",
      "1 2 15 200\n"
     ]
    }
   ],
   "source": [
    "### ### Task 6\n",
    "\n",
    "numbers = input('Введите числа через пробел: ')\n",
    "number_list = numbers.split(' ')\n",
    "\n",
    "# идем по списку в обратном порядке (т.к. после удаления элементов их нумерация сбивается)\n",
    "for i in reversed(range(len(number_list))):\n",
    "  if number_list.count(number_list[i]) == 1: # если вхождение одно, то удаляем элемент\n",
    "    number_list.pop(i)\n",
    "  else: # если вхождений больше одного, то идем дальше\n",
    "    continue\n",
    "\n",
    "\"\"\" переводим в множество, чтобы убрать дубликаты;\n",
    "    меняем тип на int для корректной сортировки\"\"\"\n",
    "\n",
    "number_set = sorted(set(map(int, number_list)))\n",
    "\n",
    "\"\"\"меняем тип обратно на string, т.к. join работает со строками\"\"\"\n",
    "print(' '.join(map(str, number_set)))"
   ]
  },
  {
   "cell_type": "code",
   "execution_count": null,
   "metadata": {},
   "outputs": [],
   "source": []
  }
 ],
 "metadata": {
  "kernelspec": {
   "display_name": "Python 3",
   "language": "python",
   "name": "python3"
  },
  "language_info": {
   "codemirror_mode": {
    "name": "ipython",
    "version": 3
   },
   "file_extension": ".py",
   "mimetype": "text/x-python",
   "name": "python",
   "nbconvert_exporter": "python",
   "pygments_lexer": "ipython3",
   "version": "3.8.5"
  }
 },
 "nbformat": 4,
 "nbformat_minor": 4
}
