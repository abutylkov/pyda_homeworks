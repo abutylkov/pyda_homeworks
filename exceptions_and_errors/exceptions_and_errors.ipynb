{
 "cells": [
  {
   "cell_type": "markdown",
   "metadata": {},
   "source": [
    "Задание 1\n",
    "Печатные газеты использовали свой формат дат для каждого выпуска. Для каждой газеты из списка напишите формат указанной даты для перевода в объект datetime:\n",
    "The Moscow Times - Wednesday, October 2, 2002\n",
    "The Guardian - Friday, 11.10.13\n",
    "Daily News - Thursday, 18 August 1977"
   ]
  },
  {
   "cell_type": "code",
   "execution_count": 14,
   "metadata": {},
   "outputs": [
    {
     "name": "stdout",
     "output_type": "stream",
     "text": [
      "The Moscow Times - 2002-10-02 00:00:00\n",
      "The Guardian - 2013-10-11 00:00:00\n",
      "Daily News - 1977-08-18 00:00:00\n"
     ]
    }
   ],
   "source": [
    "from datetime import datetime\n",
    "\n",
    "TMT = 'Wednesday, October 2, 2002'\n",
    "TG = 'Friday, 11.10.13'\n",
    "DN = 'Thursday, 18 August 1977'\n",
    "\n",
    "print('The Moscow Times -', datetime.strptime(TMT, '%A, %B %d, %Y'))\n",
    "print('The Guardian -', datetime.strptime(TG, '%A, %d.%m.%y'))\n",
    "print('Daily News -', datetime.strptime(DN, '%A, %d %B %Y'))\n"
   ]
  },
  {
   "cell_type": "markdown",
   "metadata": {},
   "source": [
    "Задание 2\n",
    "Дан поток дат в формате YYYY-MM-DD, в которых встречаются некорректные значения:\n",
    "stream = [‘2018-04-02’, ‘2018-02-29’, ‘2018-19-02’]\n",
    "\n",
    "Напишите функцию, которая проверяет эти даты на корректность. Т. е. для каждой даты возвращает True (дата корректна) или False (некорректная дата)."
   ]
  },
  {
   "cell_type": "code",
   "execution_count": 15,
   "metadata": {},
   "outputs": [
    {
     "name": "stdout",
     "output_type": "stream",
     "text": [
      "2018-04-02 is True\n",
      "2018-02-29 is False\n",
      "2018-19-02 is False\n"
     ]
    }
   ],
   "source": [
    "from datetime import datetime\n",
    "\n",
    "stream = ['2018-04-02', '2018-02-29', '2018-19-02']\n",
    "\n",
    "def check_date(item):\n",
    "    try:\n",
    "        return type(datetime.strptime(item, '%Y-%m-%d')) == datetime\n",
    "    except:\n",
    "        return False\n",
    "\n",
    "for item in stream:\n",
    "    print(item, 'is', check_date(item))\n"
   ]
  },
  {
   "cell_type": "markdown",
   "metadata": {},
   "source": [
    "Задание 3\n",
    "Напишите функцию date_range, которая возвращает список дат за период от start_date до end_date. Даты должны вводиться в формате YYYY-MM-DD. В случае неверного формата или при start_date > end_date должен возвращаться пустой список.\n",
    "\n"
   ]
  },
  {
   "cell_type": "code",
   "execution_count": 12,
   "metadata": {},
   "outputs": [
    {
     "name": "stdout",
     "output_type": "stream",
     "text": [
      "Введите начальную дату в формате ГГГГ-ММ-ДД: 2021-05-06\n",
      "Введите конечную дату в формате ГГГГ-ММ-ДД: 2021-05-01\n",
      "Начальная дата больше конечной\n"
     ]
    }
   ],
   "source": [
    "from datetime import datetime\n",
    "from datetime import timedelta\n",
    "\n",
    "def date_range(start_date, end_date):\n",
    "    if check_dates(start_date, end_date):\n",
    "        start_date = dt(start_date)\n",
    "        end_date = dt(end_date)\n",
    "\n",
    "        if start_date <= end_date:\n",
    "            date_ = start_date\n",
    "\n",
    "            while date_ <= end_date:\n",
    "                print(date_.strftime('%Y-%m-%d'))\n",
    "                date_ += timedelta(days=1)\n",
    "        elif start_date > end_date:\n",
    "            print('Начальная дата больше конечной')\n",
    "\n",
    "\n",
    "def check_dates(start_date, end_date):\n",
    "# проверка корректности введенных дат\n",
    "    punto = False\n",
    "    try:\n",
    "        dt(start_date)\n",
    "        punto = True\n",
    "    except ValueError:\n",
    "        print('Неверная начальная дата')\n",
    "        punto = False\n",
    "    finally:\n",
    "        try:\n",
    "            dt(end_date)\n",
    "            punto = True\n",
    "        except ValueError:\n",
    "            print('Неверная конечная дата')\n",
    "            punto = False\n",
    "        finally:\n",
    "            return punto\n",
    "\n",
    "def dt(date_str):\n",
    "    return datetime.strptime(date_str, '%Y-%m-%d')\n",
    "            \n",
    "        \n",
    "start_date = input('Введите начальную дату в формате ГГГГ-ММ-ДД: ')\n",
    "end_date = input('Введите конечную дату в формате ГГГГ-ММ-ДД: ')\n",
    "date_range(start_date, end_date)"
   ]
  },
  {
   "cell_type": "markdown",
   "metadata": {},
   "source": [
    "Задание 4 (бонусное)\n",
    "Ваш коллега прислал код функции:\n",
    "\n",
    "DEFAULT_USER_COUNT = 3\n",
    "\n",
    "def delete_and_return_last_user(region, default_list=[‘A100’, ‘A101’, ‘A102’]):\n",
    "    \"\"“\n",
    "    Удаляет из списка default_list последнего пользователя\n",
    "    и возвращает ID нового последнего пользователя.\n",
    "    ”\"\"\n",
    "    element_to_delete = default_list[-1]\n",
    "    default_list.remove(element_to_delete)\n",
    "\n",
    "1 return default_list[DEFAULT_USER_COUNT-2]\n",
    "\n",
    "При однократном вызове этой функции все работает корректно:\n",
    "delete_and_return_last_user(1)\n",
    "‘A101’\n",
    "\n",
    "Однако, при повторном вызове получается ошибка IndexError: list index out of range.\n",
    "\n",
    "Задание:\n",
    "\n",
    "1. Что значит ошибка list index out of range?\n",
    "2. Почему при первом запуске функция работает корректно, а при втором - нет?"
   ]
  },
  {
   "cell_type": "markdown",
   "metadata": {},
   "source": [
    "### Ответы\n",
    "1. IndexError - индекс не входит в диапазон элементов, т.е. в списке нет элемента с таким порядковым номером\n",
    "2. после первого запуска в списке остается всего два элемента, при втором запуске остается всего один элемент с индексом [0], поэтому элемент [DEFAULT_USER_COUNT-2], т.е. [1] не может быть найден (отсутствует)"
   ]
  }
 ],
 "metadata": {
  "kernelspec": {
   "display_name": "Python 3",
   "language": "python",
   "name": "python3"
  },
  "language_info": {
   "codemirror_mode": {
    "name": "ipython",
    "version": 3
   },
   "file_extension": ".py",
   "mimetype": "text/x-python",
   "name": "python",
   "nbconvert_exporter": "python",
   "pygments_lexer": "ipython3",
   "version": "3.8.5"
  }
 },
 "nbformat": 4,
 "nbformat_minor": 4
}
